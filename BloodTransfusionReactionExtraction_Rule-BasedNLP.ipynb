{
 "cells": [
  {
   "cell_type": "markdown",
   "metadata": {},
   "source": [
    "### Import modules"
   ]
  },
  {
   "cell_type": "code",
   "execution_count": null,
   "metadata": {},
   "outputs": [],
   "source": [
    "import re\n",
    "import pandas as pd\n",
    "import numpy as np\n",
    "from tqdm import tqdm_notebook as tqdm"
   ]
  },
  {
   "cell_type": "markdown",
   "metadata": {},
   "source": [
    "### Import data (text files)"
   ]
  },
  {
   "cell_type": "code",
   "execution_count": null,
   "metadata": {},
   "outputs": [],
   "source": [
    "## Read data\n",
    "rawtexts = pd.read_csv('filename.csv')  \n",
    "\n",
    "## Filter for transfusion reaction workup reports\n",
    "name = \"UCSF MEDICAL CENTER  DEPARTMENT OF LABORATORY MEDICINE  DIVISION OF TRANSFUSION MEDICINE  TRANSFUSION REACTION WORKUP\"\n",
    "reports = rawtexts[rawtexts['note_text'].str.startswith(name, na = False)]\n",
    "print('shape:' + str(reports.shape))\n",
    "print('id: ' + str(reports.Deid_Key.nunique()))\n"
   ]
  },
  {
   "cell_type": "markdown",
   "metadata": {},
   "source": [
    "### Rule-based NLP: \n",
    "\n",
    "#### Step 1-2: Identify Key Mentions and Extract Texts\n",
    "\n"
   ]
  },
  {
   "cell_type": "code",
   "execution_count": 6,
   "metadata": {},
   "outputs": [
    {
     "data": {
      "application/vnd.jupyter.widget-view+json": {
       "model_id": "4767c395684a4c1299b14c8ee38ae974",
       "version_major": 2,
       "version_minor": 0
      },
      "text/plain": [
       "  0%|          | 0/4334 [00:00<?, ?it/s]"
      ]
     },
     "metadata": {},
     "output_type": "display_data"
    }
   ],
   "source": [
    "\n",
    "df = pd.DataFrame(columns = ['_id','note_date','note_text','Date_Time','Date', \n",
    "                             'Impression','ImpressionLong', 'Case definition',\n",
    "                             'Severity','Imputability','ProductID', \n",
    "                             'ProductType','ProductInfo'])\n",
    "\n",
    "for i in tqdm(range(len(reports))): \n",
    "    try:\n",
    "        df = df.append({'_id':0,'note_date':0,'note_text':0, 'Date_Time':0,'Date':0,\n",
    "                        'Impression':0,'ImpressionLong':0,'Case definition':0,\n",
    "                        'Severity':0,'Imputability':0,'ProductID':0,'ProductType':0,\n",
    "                        'ProductInfo':0 }, ignore_index=True)\n",
    "        df.iloc[i, 0] = reports.iloc[i, :]['Deid_Key']\n",
    "        df.iloc[i, 1] = reports.iloc[i, :]['note_date']\n",
    "        df.iloc[i, 2] = reports.iloc[i, :]['note_text']\n",
    "        s = str(reports.iloc[i, :]['note_text']) \n",
    "        df.iloc[i, 3] = str(re.compile('of transfusion reactions:(.[0-9]*.[0-9]*.[0-9]*.[0-9]+)|of transfusion reaction:(.[0-9]*.[0-9]*.[0-9]*.[0-9]+)|Date of transfusion reaction (.[0-9]*.[0-9]*.[0-9]*.[0-9]+)|Issue date/time:(.[0-9]*.[0-9].+) Chief.*|Date of Transfusion Reaction Workup:(.[0-9]*.[0-9].+)|Issue date/time:(.[0-9]*.[0-9].+)', re.IGNORECASE).findall(s))[2:-2]\n",
    "        d = df.iloc[i, 3]\n",
    "        df.iloc[i, 4] = str(re.compile('([0-9]+.[0-9]*.[0-9]+)').findall(d))[2:-2]\n",
    "### IMPRESSION       \n",
    "        df.iloc[i, 5] = str(re.compile(r'Impression:\\s*(?:\\S+\\s*){0,10}|Impression\\s*(?:\\S+\\s*){0,10}|Transfusion-associated adverse reaction\\*\\*\\*\\*\\*:\\s*(?:\\S+\\s*){0,10}|Transfusion-associated adverse reaction\\*:\\s*(?:\\S+\\s*){0,10}|Transfusion-associated adverse,reaction\\*:\\s*(?:\\S+\\s*){0,10}').findall(s))[2:-2]  \n",
    "        df.iloc[i, 6] = re.compile(r'Impression:\\s*(?:\\S+\\s*){0,50}|Impression\\s*(?:\\S+\\s*){0,50}|Transfusion-associated adverse reaction\\*\\*\\*\\*\\*:\\s*(?:\\S+\\s*){0,50}|Transfusion-associated adverse reaction\\*:\\s*(?:\\S+\\s*){0,50}|Transfusion-associated adverse,reaction\\*:\\s*(?:\\S+\\s*){0,50}').findall(s)\n",
    "### CASE DEFINITION\n",
    "        df.iloc[i, 7] = str(re.compile(r'Case definition:\\s*(\\S+)').findall(s))[2:-2]\n",
    "### SEVERITY\n",
    "        df.iloc[i, 8] = str(re.compile(r'Severity:\\s*(\\S+)').findall(s))[2:-2]\n",
    "### IMPUTABILITY\n",
    "        df.iloc[i, 9] = str(re.compile(r'Imputability:\\s*(\\S+)').findall(s))[2:-2]\n",
    "### PRODUCT        \n",
    "        df.iloc[i, 10] = str(re.compile(r' *W\\s*(\\d+.\\d+.\\d+.\\d+)').findall(s))[2:-2]  \n",
    "        df.iloc[i, 11] = str(re.compile(r' *W[0-9 ]+\\(([^()]*)\\)').findall(s))[2:-2]\n",
    "        df.iloc[i, 12] = str(re.compile(r'Product\\s*(?:\\S+\\s*){0,25}').findall(s))[2:-2] \n",
    "\n",
    "        i+=1\n",
    "    except:\n",
    "        pass\n",
    "\n",
    "\n"
   ]
  },
  {
   "cell_type": "markdown",
   "metadata": {},
   "source": [
    "#### Step 3: Extraction standardization"
   ]
  },
  {
   "cell_type": "code",
   "execution_count": 8,
   "metadata": {},
   "outputs": [],
   "source": [
    "## Standardizing transfusion reactions\n",
    "\n",
    "def standardize_btar(cases, colname, newcolname):\n",
    "    cases[newcolname] = np.nan\n",
    "    cases.loc[((cases[colname].str.contains('Febrile Non-Hemolytic', case=False, na=False))|\n",
    "                      (cases[colname].str.contains('febrile,  non-hemolytic transfusion reaction', case=False, na=False))|\n",
    "                      (cases[colname].str.contains('Febrile, non-hemolytic transfusion reaction', case=False, na=False))|\n",
    "                      (cases[colname].str.contains('Febrile,Non-Hemolytic Transfusion Reaction \\(FNHTR\\)', case=False, na=False))|\n",
    "                      (cases[colname].str.contains('Febrile-Non Hemolytic Reaction \\(TR20, 999.8\\)', case=False, na=False))|\n",
    "                      (cases[colname].str.contains('Febrile nonhemolytic transfusion reaction', case=False, na=False))|\n",
    "                      (cases[colname].str.contains('Febrile,non-hemolytic transfusion reaction', case=False, na=False))|\n",
    "                      (cases[colname].str.contains('Febrile Non hemolytic transfusion reaction', case=False, na=False))), newcolname] = 'FNHTR'\n",
    "    cases.loc[((cases[colname].str.contains('Allergic Transfusion', case=False, na=False))|\n",
    "                       (cases[colname].str.contains('Allergic reaction', case=False, na=False))|\n",
    "                      (cases[colname].str.contains('Allergic,Transfusion Reaction', case=False, na=False))|\n",
    "                      (cases[colname].str.contains('allergic transfusion reaction', case=False, na=False))|\n",
    "                      (cases[colname].str.contains('Anaphylactic Transfusion Reaction', case=False, na=False))|\n",
    "                      (cases[colname].str.contains('Anaphylactoid transfusion reaction', case=False, na=False))|\n",
    "                      (cases[colname].str.contains('Anaphylactic,Transfusion Reaction', case=False, na=False))), newcolname] = 'ATR'\n",
    "    cases.loc[cases[colname].str.contains('Allergic reaction  Cas', case=False, na=False), newcolname] = 'ATR'\n",
    "    cases.loc[cases[colname].str.contains(' allergic reaction \\[TR33\\] ', case=False, na=False), newcolname] = 'ATR'\n",
    "\n",
    "    cases.loc[cases[colname].str.contains('Delayed Serologic Transfusion', case=False, na=False), newcolname] = 'DSTR'\n",
    "    cases.loc[cases[colname].str.contains('Delayed Serology Transfusion', case=False, na=False), newcolname] = 'DSTR'\n",
    "\n",
    "    cases.loc[((cases[colname].str.contains('Transfusion Associated Circulatory', case=False, na=False))|\n",
    "                      (cases[colname].str.contains('Transfusion Associated Cardiac Overload', case=False, na=False))|\n",
    "                      (cases[colname].str.contains('Transfusion-Associated Circulatory', case=False, na=False))|\n",
    "                      (cases[colname].str.contains('Transfusion-associated cardiac overload', case=False, na=False))|\n",
    "                      (cases[colname].str.contains('Transfusion,Associated Circulatory Overload', case=False, na=False))|\n",
    "                      (cases[colname].str.contains('TACO', case=True, na=False))), newcolname] = 'TACO'\n",
    "    cases.loc[cases[colname].str.contains('Transfusion Associated Dyspnea', case=False, na=False), newcolname] = 'TAD'\n",
    "    cases.loc[cases[colname].str.contains('Transfusion-Associated Dyspnea', case=False, na=False), newcolname] = 'TAD'\n",
    "\n",
    "    cases.loc[cases[colname].str.contains('Delayed Hemolytic Transfusion', case=False, na=False), newcolname] = 'DHTR'\n",
    "    cases.loc[((cases[colname].str.contains('Hypotensive Transfusion', case=False, na=False))|\n",
    "                       (cases[colname].str.contains('Hypotension related to transfusion', case=False, na=False))), newcolname] = 'HTR'\n",
    "\n",
    "    cases.loc[cases[colname].str.contains('Acute Hemolytic Transfusion', case=False, na=False), newcolname] = 'AHTR'\n",
    "\n",
    "    cases.loc[cases[colname].str.contains('Transfusion-Transmitted Infection', case=False, na=False), newcolname] = 'TTI'\n",
    "\n",
    "    cases.loc[((cases[colname].str.contains('Transfusion Related Acute Lung Injury', case=False, na=False))|\n",
    "                      (cases[colname].str.contains('Transfusion-Related Acute Lung Injury', case=False, na=False))), newcolname] = 'TRALI'\n",
    "\n",
    "    cases.loc[cases[colname].str.contains('Post-Transfusion Purpura', case=False, na=False), newcolname] = 'PTP'\n",
    "\n",
    "\n",
    "    cases.loc[((cases[colname].str.contains('Other Transfusion Reaction', case=False, na=False))|\n",
    "                      (cases[colname].str.contains('Other Transfusion,Reaction', case=False, na=False))), newcolname] = 'Other/Unknown'\n",
    "    cases.loc[((cases[colname].str.contains('Unknown Transfusion Reaction', case=False, na=False))|\n",
    "                      (cases[colname].str.contains('Unknown,Transfusion Reaction', case=False, na=False))|\n",
    "                      (cases[colname].str.contains('Transfusion-associated adverse reaction\\*: Unknown', case=True, na=False))|\n",
    "                      (cases[colname].str.contains('Unknown reaction', case=True, na=False))), newcolname] = 'Other/Unknown'\n",
    "                       \n",
    "                       \n",
    "    return cases\n",
    "\n",
    "df = standardize_btar(df, 'BTAR_extraction', 'BTAR_standardized')\n",
    "\n",
    "## Standardizing reaction dates\n",
    "df[['date_', 'time_']] = df['Date'].str.split(\"',\",1, expand=True)\n",
    "df['date'] = df['date_'].str.replace(\" '\", \"\").str.replace(\"-\", \"/\")\n",
    "df['date'] = pd.to_datetime(all_case['date'],errors='coerce')\n",
    "\n",
    "## Standardizing case definition\n",
    "df.loc[df['Case definition'].str.contains('definit', case=False, na=False), 'case definition'] = 'Definitive'\n",
    "df.loc[df['Case definition'].str.contains('probab', case=False, na=False), 'case definition'] = 'Probable'\n",
    "df.loc[df['Case definition'].str.contains('possib', case=False, na=False), 'case definition'] = 'Possible'\n",
    "\n",
    "\n",
    "## Standardizing severity\n",
    "df.loc[((df['Severity'].str.contains('non severe', case=False, na=False))|\n",
    "       (df['Severity'].str.contains('non-severe', case=False, na=False))), 'severity'] = 'Non-Severe'\n",
    "df.loc[df['Severity'].str.contains('severe', case=False, na=False), 'severity'] = 'Severe'\n",
    "df.loc[df['Severity'].str.contains('life', case=False, na=False), 'severity'] = 'Life-Threatening'\n",
    "df.loc[df['Severity'].str.contains('death', case=False, na=False), 'severity'] = 'Death'\n",
    "df.loc[df['Severity'].str.contains('not', case=False, na=False), 'severity'] = 'Not Determined'\n",
    "\n",
    "\n",
    "\n",
    "## Standardizing imputability\n",
    "df.loc[df['Imputability'].str.contains('definit', case=False, na=False), 'imputability'] = 'Definite'\n",
    "df.loc[df['Imputability'].str.contains('definit', case=False, na=False), 'imputability'] = 'Probable'\n",
    "df.loc[df['Imputability'].str.contains('probab', case=False, na=False), 'imputability'] = 'Possible'\n",
    "df.loc[df['Imputability'].str.contains('possib', case=False, na=False), 'imputability'] = 'Doubtful'\n",
    "df.loc[df['Imputability'].str.contains('rule', case=False, na=False), 'imputability'] = 'Ruled Out'\n",
    "df.loc[df['Imputability'].str.contains('not', case=False, na=False), 'imputability'] = 'Not Determined'\n",
    "\n",
    "\n"
   ]
  },
  {
   "cell_type": "markdown",
   "metadata": {},
   "source": [
    "### Export tabular data"
   ]
  },
  {
   "cell_type": "code",
   "execution_count": null,
   "metadata": {},
   "outputs": [],
   "source": [
    "## save data \n",
    "\n",
    "df.to_csv(\"filename.csv\", index = None, header=True)\n",
    "\n"
   ]
  }
 ],
 "metadata": {
  "kernelspec": {
   "display_name": "Python 3",
   "language": "python",
   "name": "python3"
  },
  "language_info": {
   "codemirror_mode": {
    "name": "ipython",
    "version": 3
   },
   "file_extension": ".py",
   "mimetype": "text/x-python",
   "name": "python",
   "nbconvert_exporter": "python",
   "pygments_lexer": "ipython3",
   "version": "3.7.3"
  }
 },
 "nbformat": 4,
 "nbformat_minor": 2
}
